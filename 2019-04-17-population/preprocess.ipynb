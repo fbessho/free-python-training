{
 "cells": [
  {
   "cell_type": "code",
   "execution_count": 1,
   "metadata": {},
   "outputs": [],
   "source": [
    "import json\n",
    "import pandas as pd"
   ]
  },
  {
   "cell_type": "code",
   "execution_count": 2,
   "metadata": {},
   "outputs": [],
   "source": [
    "# Load JSON file\n",
    "data = json.load(open('population.json'))"
   ]
  },
  {
   "cell_type": "code",
   "execution_count": 3,
   "metadata": {},
   "outputs": [],
   "source": [
    "# Interesting data only under GET_STATS_DATA/STATISTICAL_DATA\n",
    "stat_data = data['GET_STATS_DATA']['STATISTICAL_DATA']"
   ]
  },
  {
   "cell_type": "markdown",
   "metadata": {},
   "source": [
    "Create two maps for later"
   ]
  },
  {
   "cell_type": "code",
   "execution_count": 4,
   "metadata": {},
   "outputs": [],
   "source": [
    "column_map = stat_data['CLASS_INF']['CLASS_OBJ']\n",
    "\n",
    "def eusure_list(x):\n",
    "    \"\"\"A helper function - If x is not a list, wrap it with list and return.\"\"\"\n",
    "    if isinstance(x, list):\n",
    "        return x\n",
    "    else:\n",
    "        return [x]\n",
    "    \n",
    "# Column ID -> Column Name\n",
    "col_id_to_col_name = {\n",
    "    x['@id']: x['@name']\n",
    "    for x in column_map\n",
    "}\n",
    "\n",
    "# Column ID -> Column Code -> Column Value\n",
    "code_to_data = {}\n",
    "for x in column_map:\n",
    "    # code_to_data\n",
    "    x_class = eusure_list(x['CLASS'])\n",
    "    child_map = {}\n",
    "    for y in x_class:\n",
    "        child_map[y['@code']] = y['@name']\n",
    "        \n",
    "    code_to_data[x['@id']] = child_map"
   ]
  },
  {
   "cell_type": "markdown",
   "metadata": {},
   "source": [
    "Load data in JSON (stored as list of dict) into pandas data frame"
   ]
  },
  {
   "cell_type": "code",
   "execution_count": 5,
   "metadata": {},
   "outputs": [],
   "source": [
    "df = pd.DataFrame(stat_data['DATA_INF']['VALUE'])"
   ]
  },
  {
   "cell_type": "markdown",
   "metadata": {},
   "source": [
    "Check the first row"
   ]
  },
  {
   "cell_type": "code",
   "execution_count": 6,
   "metadata": {},
   "outputs": [
    {
     "data": {
      "text/html": [
       "<div>\n",
       "<style scoped>\n",
       "    .dataframe tbody tr th:only-of-type {\n",
       "        vertical-align: middle;\n",
       "    }\n",
       "\n",
       "    .dataframe tbody tr th {\n",
       "        vertical-align: top;\n",
       "    }\n",
       "\n",
       "    .dataframe thead th {\n",
       "        text-align: right;\n",
       "    }\n",
       "</style>\n",
       "<table border=\"1\" class=\"dataframe\">\n",
       "  <thead>\n",
       "    <tr style=\"text-align: right;\">\n",
       "      <th></th>\n",
       "      <th>$</th>\n",
       "      <th>@area</th>\n",
       "      <th>@cat01</th>\n",
       "      <th>@cat02</th>\n",
       "      <th>@cat03</th>\n",
       "      <th>@tab</th>\n",
       "      <th>@time</th>\n",
       "      <th>@unit</th>\n",
       "    </tr>\n",
       "  </thead>\n",
       "  <tbody>\n",
       "    <tr>\n",
       "      <th>0</th>\n",
       "      <td>126706</td>\n",
       "      <td>00000</td>\n",
       "      <td>000</td>\n",
       "      <td>01000</td>\n",
       "      <td>001</td>\n",
       "      <td>001</td>\n",
       "      <td>1001</td>\n",
       "      <td>千人</td>\n",
       "    </tr>\n",
       "    <tr>\n",
       "      <th>1</th>\n",
       "      <td>5320</td>\n",
       "      <td>01000</td>\n",
       "      <td>000</td>\n",
       "      <td>01000</td>\n",
       "      <td>001</td>\n",
       "      <td>001</td>\n",
       "      <td>1001</td>\n",
       "      <td>千人</td>\n",
       "    </tr>\n",
       "    <tr>\n",
       "      <th>2</th>\n",
       "      <td>1278</td>\n",
       "      <td>02000</td>\n",
       "      <td>000</td>\n",
       "      <td>01000</td>\n",
       "      <td>001</td>\n",
       "      <td>001</td>\n",
       "      <td>1001</td>\n",
       "      <td>千人</td>\n",
       "    </tr>\n",
       "    <tr>\n",
       "      <th>3</th>\n",
       "      <td>1255</td>\n",
       "      <td>03000</td>\n",
       "      <td>000</td>\n",
       "      <td>01000</td>\n",
       "      <td>001</td>\n",
       "      <td>001</td>\n",
       "      <td>1001</td>\n",
       "      <td>千人</td>\n",
       "    </tr>\n",
       "    <tr>\n",
       "      <th>4</th>\n",
       "      <td>2323</td>\n",
       "      <td>04000</td>\n",
       "      <td>000</td>\n",
       "      <td>01000</td>\n",
       "      <td>001</td>\n",
       "      <td>001</td>\n",
       "      <td>1001</td>\n",
       "      <td>千人</td>\n",
       "    </tr>\n",
       "  </tbody>\n",
       "</table>\n",
       "</div>"
      ],
      "text/plain": [
       "        $  @area @cat01 @cat02 @cat03 @tab @time @unit\n",
       "0  126706  00000    000  01000    001  001  1001    千人\n",
       "1    5320  01000    000  01000    001  001  1001    千人\n",
       "2    1278  02000    000  01000    001  001  1001    千人\n",
       "3    1255  03000    000  01000    001  001  1001    千人\n",
       "4    2323  04000    000  01000    001  001  1001    千人"
      ]
     },
     "execution_count": 6,
     "metadata": {},
     "output_type": "execute_result"
    }
   ],
   "source": [
    "df.head()"
   ]
  },
  {
   "cell_type": "markdown",
   "metadata": {},
   "source": [
    "Now convert values in code (e.g. 01000) into the actual values (e.g. 北海道）"
   ]
  },
  {
   "cell_type": "code",
   "execution_count": 7,
   "metadata": {},
   "outputs": [],
   "source": [
    "for col_id, mymap in code_to_data.items():\n",
    "    col_name = col_id_to_col_name[col_id]\n",
    "    # Create a new column\n",
    "    df[col_name] = df['@' + col_id].map(mymap)\n",
    "    # Drop (remove) the original column\n",
    "    df.drop('@' + col_id, axis=1, inplace=True)"
   ]
  },
  {
   "cell_type": "markdown",
   "metadata": {},
   "source": [
    "Now the dataframe is more readable"
   ]
  },
  {
   "cell_type": "code",
   "execution_count": 8,
   "metadata": {},
   "outputs": [
    {
     "data": {
      "text/html": [
       "<div>\n",
       "<style scoped>\n",
       "    .dataframe tbody tr th:only-of-type {\n",
       "        vertical-align: middle;\n",
       "    }\n",
       "\n",
       "    .dataframe tbody tr th {\n",
       "        vertical-align: top;\n",
       "    }\n",
       "\n",
       "    .dataframe thead th {\n",
       "        text-align: right;\n",
       "    }\n",
       "</style>\n",
       "<table border=\"1\" class=\"dataframe\">\n",
       "  <thead>\n",
       "    <tr style=\"text-align: right;\">\n",
       "      <th></th>\n",
       "      <th>$</th>\n",
       "      <th>@unit</th>\n",
       "      <th>表章項目</th>\n",
       "      <th>男女別</th>\n",
       "      <th>年齢5歳階級</th>\n",
       "      <th>人口</th>\n",
       "      <th>全国・都道府県</th>\n",
       "      <th>時間軸（年月日現在）</th>\n",
       "    </tr>\n",
       "  </thead>\n",
       "  <tbody>\n",
       "    <tr>\n",
       "      <th>0</th>\n",
       "      <td>126706</td>\n",
       "      <td>千人</td>\n",
       "      <td>人口</td>\n",
       "      <td>男女計</td>\n",
       "      <td>総数</td>\n",
       "      <td>総人口</td>\n",
       "      <td>全国</td>\n",
       "      <td>平成29年10月1日現在</td>\n",
       "    </tr>\n",
       "    <tr>\n",
       "      <th>1</th>\n",
       "      <td>5320</td>\n",
       "      <td>千人</td>\n",
       "      <td>人口</td>\n",
       "      <td>男女計</td>\n",
       "      <td>総数</td>\n",
       "      <td>総人口</td>\n",
       "      <td>北海道</td>\n",
       "      <td>平成29年10月1日現在</td>\n",
       "    </tr>\n",
       "    <tr>\n",
       "      <th>2</th>\n",
       "      <td>1278</td>\n",
       "      <td>千人</td>\n",
       "      <td>人口</td>\n",
       "      <td>男女計</td>\n",
       "      <td>総数</td>\n",
       "      <td>総人口</td>\n",
       "      <td>青森県</td>\n",
       "      <td>平成29年10月1日現在</td>\n",
       "    </tr>\n",
       "    <tr>\n",
       "      <th>3</th>\n",
       "      <td>1255</td>\n",
       "      <td>千人</td>\n",
       "      <td>人口</td>\n",
       "      <td>男女計</td>\n",
       "      <td>総数</td>\n",
       "      <td>総人口</td>\n",
       "      <td>岩手県</td>\n",
       "      <td>平成29年10月1日現在</td>\n",
       "    </tr>\n",
       "    <tr>\n",
       "      <th>4</th>\n",
       "      <td>2323</td>\n",
       "      <td>千人</td>\n",
       "      <td>人口</td>\n",
       "      <td>男女計</td>\n",
       "      <td>総数</td>\n",
       "      <td>総人口</td>\n",
       "      <td>宮城県</td>\n",
       "      <td>平成29年10月1日現在</td>\n",
       "    </tr>\n",
       "  </tbody>\n",
       "</table>\n",
       "</div>"
      ],
      "text/plain": [
       "        $ @unit 表章項目  男女別 年齢5歳階級   人口 全国・都道府県    時間軸（年月日現在）\n",
       "0  126706    千人   人口  男女計     総数  総人口      全国  平成29年10月1日現在\n",
       "1    5320    千人   人口  男女計     総数  総人口     北海道  平成29年10月1日現在\n",
       "2    1278    千人   人口  男女計     総数  総人口     青森県  平成29年10月1日現在\n",
       "3    1255    千人   人口  男女計     総数  総人口     岩手県  平成29年10月1日現在\n",
       "4    2323    千人   人口  男女計     総数  総人口     宮城県  平成29年10月1日現在"
      ]
     },
     "execution_count": 8,
     "metadata": {},
     "output_type": "execute_result"
    }
   ],
   "source": [
    "df.head()"
   ]
  },
  {
   "cell_type": "markdown",
   "metadata": {},
   "source": [
    "Finally, save the dataframe in the CSV format.\n",
    "\n",
    "`index=False` not to save indices (0, 1, 2... shown at leftmost in the table above.)"
   ]
  },
  {
   "cell_type": "code",
   "execution_count": 9,
   "metadata": {},
   "outputs": [],
   "source": [
    "df.to_csv('population.csv', index=False)"
   ]
  }
 ],
 "metadata": {
  "kernelspec": {
   "display_name": "Python 3",
   "language": "python",
   "name": "python3"
  },
  "language_info": {
   "codemirror_mode": {
    "name": "ipython",
    "version": 3
   },
   "file_extension": ".py",
   "mimetype": "text/x-python",
   "name": "python",
   "nbconvert_exporter": "python",
   "pygments_lexer": "ipython3",
   "version": "3.7.3"
  }
 },
 "nbformat": 4,
 "nbformat_minor": 2
}
